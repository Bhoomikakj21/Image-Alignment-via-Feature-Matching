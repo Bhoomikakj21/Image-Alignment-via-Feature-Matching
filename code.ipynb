{
 "cells": [
  {
   "cell_type": "code",
   "execution_count": 12,
   "id": "76f6df9e-220e-4f93-8082-5daf3ae2c2e3",
   "metadata": {},
   "outputs": [],
   "source": [
    "import urllib.request\n",
    "import os\n",
    "\n",
    "os.makedirs(\"images\", exist_ok=True)\n",
    "\n",
    "img_urls = {\n",
    "    \"image1.jpg\": \"https://raw.githubusercontent.com/opencv/opencv/master/samples/data/box.png\",\n",
    "    \"image2.jpg\": \"https://raw.githubusercontent.com/opencv/opencv/master/samples/data/box_in_scene.png\"\n",
    "}\n",
    "\n",
    "for filename, url in img_urls.items():\n",
    "    urllib.request.urlretrieve(url, f\"images/{filename}\")\n"
   ]
  },
  {
   "cell_type": "code",
   "execution_count": 14,
   "id": "2098e361-aacd-485e-b2cc-629232d52651",
   "metadata": {},
   "outputs": [
    {
     "name": "stdout",
     "output_type": "stream",
     "text": [
      "Matching and alignment complete.\n"
     ]
    }
   ],
   "source": [
    "import cv2\n",
    "import numpy as np\n",
    "import matplotlib.pyplot as plt\n",
    "import os\n",
    "\n",
    "# Paths\n",
    "img1_path = 'images/image1.jpg'\n",
    "img2_path = 'images/image2.jpg'\n",
    "output_match_path = 'output/matched_keypoints.jpg'\n",
    "output_align_path = 'output/aligned_image.jpg'\n",
    "\n",
    "# Load images\n",
    "img1 = cv2.imread(img1_path, cv2.IMREAD_COLOR)\n",
    "img2 = cv2.imread(img2_path, cv2.IMREAD_COLOR)\n",
    "\n",
    "# Convert to grayscale\n",
    "gray1 = cv2.cvtColor(img1, cv2.COLOR_BGR2GRAY)\n",
    "gray2 = cv2.cvtColor(img2, cv2.COLOR_BGR2GRAY)\n",
    "\n",
    "# Detect ORB keypoints and descriptors\n",
    "orb = cv2.ORB_create(5000)\n",
    "kp1, des1 = orb.detectAndCompute(gray1, None)\n",
    "kp2, des2 = orb.detectAndCompute(gray2, None)\n",
    "\n",
    "# Match descriptors using BFMatcher\n",
    "bf = cv2.BFMatcher(cv2.NORM_HAMMING, crossCheck=True)\n",
    "matches = bf.match(des1, des2)\n",
    "\n",
    "# Sort matches by distance\n",
    "matches = sorted(matches, key=lambda x: x.distance)\n",
    "\n",
    "# Draw matches\n",
    "matched_img = cv2.drawMatches(img1, kp1, img2, kp2, matches[:50], None, flags=2)\n",
    "cv2.imwrite(output_match_path, matched_img)\n",
    "\n",
    "# Extract location of good matches\n",
    "pts1 = np.float32([kp1[m.queryIdx].pt for m in matches[:50]]).reshape(-1, 1, 2)\n",
    "pts2 = np.float32([kp2[m.trainIdx].pt for m in matches[:50]]).reshape(-1, 1, 2)\n",
    "\n",
    "# Compute homography\n",
    "H, mask = cv2.findHomography(pts2, pts1, cv2.RANSAC)\n",
    "\n",
    "# Warp image2 to image1\n",
    "height, width = img1.shape[:2]\n",
    "aligned_img = cv2.warpPerspective(img2, H, (width, height))\n",
    "cv2.imwrite(output_align_path, aligned_img)\n",
    "\n",
    "print(\"Matching and alignment complete.\")\n"
   ]
  }
 ],
 "metadata": {
  "kernelspec": {
   "display_name": "Python [conda env:base] *",
   "language": "python",
   "name": "conda-base-py"
  },
  "language_info": {
   "codemirror_mode": {
    "name": "ipython",
    "version": 3
   },
   "file_extension": ".py",
   "mimetype": "text/x-python",
   "name": "python",
   "nbconvert_exporter": "python",
   "pygments_lexer": "ipython3",
   "version": "3.12.7"
  }
 },
 "nbformat": 4,
 "nbformat_minor": 5
}
